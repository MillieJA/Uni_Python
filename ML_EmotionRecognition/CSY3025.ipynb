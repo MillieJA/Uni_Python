{
  "nbformat": 4,
  "nbformat_minor": 0,
  "metadata": {
    "accelerator": "GPU",
    "colab": {
      "name": "CSY3025.ipynb",
      "provenance": [],
      "collapsed_sections": []
    },
    "kernelspec": {
      "display_name": "Python 3",
      "language": "python",
      "name": "python3"
    },
    "language_info": {
      "codemirror_mode": {
        "name": "ipython",
        "version": 3
      },
      "file_extension": ".py",
      "mimetype": "text/x-python",
      "name": "python",
      "nbconvert_exporter": "python",
      "pygments_lexer": "ipython3",
      "version": "3.7.0"
    }
  },
  "cells": [
    {
      "cell_type": "code",
      "metadata": {
        "id": "sCrjpwh8F21T"
      },
      "source": [
        "# Import TensorFlow and Keras libraries\n",
        "import os\n",
        "import numpy as np\n",
        "import tensorflow as tf\n",
        "from tensorflow import keras\n",
        "\n",
        "# Upload dataset as zipped folder\n",
        "from google.colab import files\n",
        "uploaded = files.upload()"
      ],
      "execution_count": null,
      "outputs": []
    },
    {
      "cell_type": "code",
      "metadata": {
        "id": "vBSDP_iybG05"
      },
      "source": [
        "# Unzip uploaded folder\r\n",
        "!unzip -q fer2013.zip"
      ],
      "execution_count": null,
      "outputs": []
    },
    {
      "cell_type": "code",
      "metadata": {
        "id": "n5xeA3CjbIxO"
      },
      "source": [
        "# Locate the training and test sets\r\n",
        "train_dir = 'train'\r\n",
        "test_dir = 'test'"
      ],
      "execution_count": 174,
      "outputs": []
    },
    {
      "cell_type": "code",
      "metadata": {
        "id": "RBaHfANVdHvm"
      },
      "source": [
        "from keras.preprocessing.image import ImageDataGenerator\r\n",
        "\r\n",
        "train_datagen = ImageDataGenerator(\r\n",
        "    rotation_range=40,\r\n",
        "    fill_mode='nearest')\r\n",
        "\r\n",
        "test_datagen = ImageDataGenerator(\r\n",
        "    rotation_range=40,\r\n",
        "    fill_mode='nearest')"
      ],
      "execution_count": 175,
      "outputs": []
    },
    {
      "cell_type": "code",
      "metadata": {
        "id": "qztJvzBQd_jy",
        "colab": {
          "base_uri": "https://localhost:8080/"
        },
        "outputId": "4bb95860-7bb2-4c4d-c997-965c57a66a2a"
      },
      "source": [
        "train_generator = train_datagen.flow_from_directory(\r\n",
        "        train_dir,\r\n",
        "        target_size=(48, 48),\r\n",
        "        batch_size=16,\r\n",
        "        class_mode='categorical',\r\n",
        "        shuffle=True) \r\n",
        "\r\n",
        "test_generator = test_datagen.flow_from_directory(\r\n",
        "        test_dir,\r\n",
        "        target_size=(48, 48),\r\n",
        "        batch_size=16,\r\n",
        "        class_mode='categorical',\r\n",
        "        shuffle=True) "
      ],
      "execution_count": 176,
      "outputs": [
        {
          "output_type": "stream",
          "text": [
            "Found 28709 images belonging to 7 classes.\n",
            "Found 7178 images belonging to 7 classes.\n"
          ],
          "name": "stdout"
        }
      ]
    },
    {
      "cell_type": "code",
      "metadata": {
        "id": "7T2hvULIDpAa",
        "colab": {
          "base_uri": "https://localhost:8080/"
        },
        "outputId": "e69f27e6-6cec-48b9-be36-1660c61e9022"
      },
      "source": [
        "# Create a dataset of all training images and give them labels\r\n",
        "train_ds=tf.keras.preprocessing.image_dataset_from_directory(\r\n",
        "    train_dir,\r\n",
        "    labels=\"inferred\",\r\n",
        "    label_mode=\"categorical\",\r\n",
        "    color_mode=\"grayscale\",\r\n",
        "    validation_split=0.15,\r\n",
        "    subset='training', \r\n",
        "    image_size=(48, 48),\r\n",
        "    seed=1337,\r\n",
        ")\r\n",
        "# Create a validation dataset from the training set\r\n",
        "validation_ds=tf.keras.preprocessing.image_dataset_from_directory(\r\n",
        "    train_dir,\r\n",
        "    labels=\"inferred\",\r\n",
        "    label_mode=\"categorical\",\r\n",
        "    color_mode=\"grayscale\",\r\n",
        "    validation_split=0.15,\r\n",
        "    subset='validation', \r\n",
        "    image_size=(48, 48),\r\n",
        "    seed=1337,\r\n",
        ")\r\n",
        "\r\n",
        "# Create a dataset of all test images and give them labels\r\n",
        "test_ds=tf.keras.preprocessing.image_dataset_from_directory(\r\n",
        "    test_dir,\r\n",
        "    labels=\"inferred\",\r\n",
        "    label_mode=\"categorical\",\r\n",
        "    color_mode=\"grayscale\",\r\n",
        "    image_size=(48, 48),\r\n",
        "    shuffle=True,\r\n",
        ")"
      ],
      "execution_count": 177,
      "outputs": [
        {
          "output_type": "stream",
          "text": [
            "Found 28709 files belonging to 7 classes.\n",
            "Using 24403 files for training.\n",
            "Found 28709 files belonging to 7 classes.\n",
            "Using 4306 files for validation.\n",
            "Found 7178 files belonging to 7 classes.\n"
          ],
          "name": "stdout"
        }
      ]
    },
    {
      "cell_type": "code",
      "metadata": {
        "id": "Cnjaadaa-n-X"
      },
      "source": [
        "from keras import layers\r\n",
        "from keras import models\r\n",
        "\r\n",
        "# Create network\r\n",
        "network = models.Sequential()\r\n",
        "\r\n",
        "network.add(layers.Conv2D(128, (3, 3), activation='relu', input_shape=(48, 48, 1)))\r\n",
        "network.add(layers.BatchNormalization())\r\n",
        "network.add(layers.MaxPooling2D((2, 2)))\r\n",
        "\r\n",
        "network.add(layers.Conv2D(256,(3,3), activation='relu'))\r\n",
        "network.add(layers.BatchNormalization())\r\n",
        "network.add(layers.MaxPooling2D((2, 2)))\r\n",
        "\r\n",
        "network.add(layers.Conv2D(512,(3,3), activation='relu'))\r\n",
        "network.add(layers.BatchNormalization())\r\n",
        "network.add(layers.MaxPooling2D((2, 2)))\r\n",
        "\r\n",
        "network.add(layers.Flatten())\r\n",
        "\r\n",
        "network.add(layers.Dense(128, kernel_regularizer=tf.keras.regularizers.l2(0.001), activation='relu'))\r\n",
        "network.add(layers.BatchNormalization())\r\n",
        "network.add(layers.Dense(7, activation='softmax'))"
      ],
      "execution_count": 182,
      "outputs": []
    },
    {
      "cell_type": "code",
      "metadata": {
        "id": "aJ69KiuZfuYh"
      },
      "source": [
        "# Define the loss function, optimiser, and metrics\r\n",
        "network.compile(optimizer='rmsprop', loss='categorical_crossentropy', metrics=['accuracy'])"
      ],
      "execution_count": 183,
      "outputs": []
    },
    {
      "cell_type": "code",
      "metadata": {
        "id": "DnSbde0l6gQf"
      },
      "source": [
        "# Implement early stopping to combat overfitting\r\n",
        "es = tf.keras.callbacks.EarlyStopping(monitor='accuracy', mode='max', verbose=0, patience=5)"
      ],
      "execution_count": 184,
      "outputs": []
    },
    {
      "cell_type": "code",
      "metadata": {
        "id": "QpyJdRIHfwSg",
        "colab": {
          "base_uri": "https://localhost:8080/"
        },
        "outputId": "f791bd18-9e77-4488-f2f7-8293257c46ac"
      },
      "source": [
        "BATCH_SIZE = 16\r\n",
        "\r\n",
        "# Run the training process\r\n",
        "history = network.fit(\r\n",
        "train_ds,\r\n",
        "steps_per_epoch = len(train_ds)/BATCH_SIZE,\r\n",
        "epochs=15,\r\n",
        "callbacks=[es],\r\n",
        "validation_data=validation_ds,\r\n",
        "validation_steps = len(validation_ds)/BATCH_SIZE)"
      ],
      "execution_count": 185,
      "outputs": [
        {
          "output_type": "stream",
          "text": [
            "Epoch 1/15\n",
            "47/47 [==============================] - 3s 33ms/step - loss: 2.5878 - accuracy: 0.2388 - val_loss: 5.1951 - val_accuracy: 0.1354\n",
            "Epoch 2/15\n",
            "47/47 [==============================] - 1s 28ms/step - loss: 2.1278 - accuracy: 0.3187 - val_loss: 5.3286 - val_accuracy: 0.2778\n",
            "Epoch 3/15\n",
            "47/47 [==============================] - 1s 28ms/step - loss: 1.9658 - accuracy: 0.3641 - val_loss: 2.7087 - val_accuracy: 0.3056\n",
            "Epoch 4/15\n",
            "47/47 [==============================] - 1s 28ms/step - loss: 1.8794 - accuracy: 0.3699 - val_loss: 2.1512 - val_accuracy: 0.3611\n",
            "Epoch 5/15\n",
            "47/47 [==============================] - 1s 28ms/step - loss: 1.8159 - accuracy: 0.3900 - val_loss: 1.8811 - val_accuracy: 0.3993\n",
            "Epoch 6/15\n",
            "47/47 [==============================] - 1s 28ms/step - loss: 1.7536 - accuracy: 0.3876 - val_loss: 2.0612 - val_accuracy: 0.3160\n",
            "Epoch 7/15\n",
            "47/47 [==============================] - 1s 28ms/step - loss: 1.6078 - accuracy: 0.4522 - val_loss: 2.0722 - val_accuracy: 0.3368\n",
            "Epoch 8/15\n",
            "47/47 [==============================] - 1s 28ms/step - loss: 1.6925 - accuracy: 0.4276 - val_loss: 1.8737 - val_accuracy: 0.3542\n",
            "Epoch 9/15\n",
            "47/47 [==============================] - 1s 28ms/step - loss: 1.6625 - accuracy: 0.4105 - val_loss: 1.8104 - val_accuracy: 0.3958\n",
            "Epoch 10/15\n",
            "47/47 [==============================] - 1s 28ms/step - loss: 1.5750 - accuracy: 0.4526 - val_loss: 1.7863 - val_accuracy: 0.4132\n",
            "Epoch 11/15\n",
            "47/47 [==============================] - 1s 28ms/step - loss: 1.5447 - accuracy: 0.4595 - val_loss: 1.7060 - val_accuracy: 0.4618\n",
            "Epoch 12/15\n",
            "47/47 [==============================] - 1s 28ms/step - loss: 1.4998 - accuracy: 0.4856 - val_loss: 1.8903 - val_accuracy: 0.3576\n",
            "Epoch 13/15\n",
            "47/47 [==============================] - 1s 28ms/step - loss: 1.4706 - accuracy: 0.4933 - val_loss: 2.1195 - val_accuracy: 0.3264\n",
            "Epoch 14/15\n",
            "47/47 [==============================] - 1s 28ms/step - loss: 1.5528 - accuracy: 0.4795 - val_loss: 1.7707 - val_accuracy: 0.3958\n",
            "Epoch 15/15\n",
            "47/47 [==============================] - 1s 28ms/step - loss: 1.4954 - accuracy: 0.5173 - val_loss: 1.9237 - val_accuracy: 0.3611\n"
          ],
          "name": "stdout"
        }
      ]
    },
    {
      "cell_type": "code",
      "metadata": {
        "id": "dko0tDjQf-AL",
        "colab": {
          "base_uri": "https://localhost:8080/"
        },
        "outputId": "6bf42f8f-7efa-4780-e6b7-e6b880e92e55"
      },
      "source": [
        "# Evaluate network on the test set\r\n",
        "test_loss, test_acc = network.evaluate(test_ds)"
      ],
      "execution_count": 186,
      "outputs": [
        {
          "output_type": "stream",
          "text": [
            "225/225 [==============================] - 4s 15ms/step - loss: 1.8048 - accuracy: 0.3950\n"
          ],
          "name": "stdout"
        }
      ]
    },
    {
      "cell_type": "code",
      "metadata": {
        "id": "LXTZntjFdcOs",
        "colab": {
          "base_uri": "https://localhost:8080/",
          "height": 295
        },
        "outputId": "30fb87be-b0a7-44c6-f0f4-8e2036412e19"
      },
      "source": [
        "# Display graph of accuracy and validation accuracy against the epoch\r\n",
        "import matplotlib.pyplot as plt\r\n",
        "plt.plot(history.history[\"accuracy\"])\r\n",
        "plt.plot(history.history['val_accuracy'])\r\n",
        "plt.plot(history.history['loss'])\r\n",
        "plt.plot(history.history['val_loss'])\r\n",
        "plt.title(\"Model Accuracy\")\r\n",
        "plt.ylabel(\"Accuracy\")\r\n",
        "plt.xlabel(\"Epoch\")\r\n",
        "plt.legend([\"Accuracy\",\"Validation Accuracy\",\"Loss\",\"Validation Loss\"])\r\n",
        "plt.show()"
      ],
      "execution_count": 187,
      "outputs": [
        {
          "output_type": "display_data",
          "data": {
            "image/png": "[encoded data removed]",
            "text/plain": [
              "<Figure size 432x288 with 1 Axes>"
            ]
          },
          "metadata": {
            "tags": [],
            "needs_background": "light"
          }
        }
      ]
    },
    {
      "cell_type": "code",
      "metadata": {
        "id": "v29c4MKqiJbk"
      },
      "source": [
        "# Get images from the test set and their predictions by the network\r\n",
        "# imgs = test_ds\r\n",
        "# predictions = network.predict(imgs)"
      ],
      "execution_count": null,
      "outputs": []
    },
    {
      "cell_type": "code",
      "metadata": {
        "id": "8k7De-EpiXMs"
      },
      "source": [
        "# Display images and their predictiona and actual label\r\n",
        "# fig = plt.figure(figsize=(5, 5))\r\n",
        "# fig.subplots_adjust(hspace=0.4, wspace=0.4)\r\n",
        "# for img in imgs:\r\n",
        "#     ax = fig.add_subplot(5, 10, i+1)\r\n",
        "#     ax.axis('off')\r\n",
        "#     ax.text(0.5, -0.35, img, predictions(img), fontsize=15, color='blue', ha='center', transform=ax.transAxes)\r\n",
        "#     ax.imshow(img[i], cmap='gray_r')\r\n",
        "#     fig.show()\r\n",
        "# "
      ],
      "execution_count": null,
      "outputs": []
    },
    {
      "cell_type": "markdown",
      "metadata": {
        "id": "hZ-Fn7bAZ1KL"
      },
      "source": [
        ""
      ]
    }
  ]
}